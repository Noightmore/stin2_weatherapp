{
 "cells": [
  {
   "cell_type": "code",
   "execution_count": null,
   "id": "0",
   "metadata": {},
   "outputs": [],
   "source": [
    "from dotenv import load_dotenv\n",
    "import os\n",
    "import psycopg2\n",
    "import pandas as pd\n",
    "from sqlalchemy import create_engine\n",
    "from urllib.parse import urlparse, urlunparse\n",
    "\n",
    "\n",
    "# connect to the PostgreSQL server | basic functionality\n",
    "\n",
    "# Load environment variables from .env file\n",
    "dotenv_path = os.path.join(os.getcwd(), '.env.local')\n",
    "print(\"Loading environment variables from:\", dotenv_path)\n",
    "load_dotenv(dotenv_path)\n",
    "\n",
    "DATABASE_URL = os.getenv('POSTGRES_URL')\n",
    "\n",
    "if DATABASE_URL is None:\n",
    "    raise ValueError(\"DATABASE_URL not set. Check your .env file!\")\n",
    "\n",
    "# Fix for SQLAlchemy:\n",
    "if DATABASE_URL.startswith('postgres://'):\n",
    "    DATABASE_URL = DATABASE_URL.replace('postgres://', 'postgresql://', 1)\n",
    "    # Remove unsupported supabase query parameter\n",
    "    url_parts = urlparse(DATABASE_URL)\n",
    "    clean_query = \"&\".join(\n",
    "        param for param in url_parts.query.split('&')\n",
    "        if not param.startswith('supa=')\n",
    "    )\n",
    "    # Rebuild the URL without 'supa'\n",
    "    clean_url_parts = url_parts._replace(query=clean_query)\n",
    "    DATABASE_URL_CLEAN = urlunparse(clean_url_parts)\n",
    "\n",
    "# Check if loaded correctly\n",
    "print(\"Database URL:\", DATABASE_URL)\n",
    "print(\"Cleaned Database URL:\", DATABASE_URL_CLEAN)\n",
    "\n",
    "# Connect using SQLAlchemy (Recommended)\n",
    "engine = create_engine(DATABASE_URL_CLEAN)\n",
    "\n",
    "# Test connection with a simple query:\n",
    "query = \"SELECT NOW();\"\n",
    "df = pd.read_sql(query, engine)\n",
    "\n",
    "print(df)\n"
   ]
  },
  {
   "cell_type": "code",
   "execution_count": null,
   "id": "1",
   "metadata": {},
   "outputs": [],
   "source": [
    "# connect to the MongoDB server | basic functionality\n",
    "\n",
    "import pymongo\n",
    "import sys\n",
    "\n",
    "# Load environment variables from .env file\n",
    "dotenv_path = os.path.join(os.getcwd(), '.env.local')\n",
    "print(\"Loading environment variables from:\", dotenv_path)\n",
    "load_dotenv(dotenv_path)\n",
    "\n",
    "MONGO_URL = os.getenv('MONGO_URL')\n",
    "\n",
    "if MONGO_URL is None:\n",
    "    raise ValueError(\"MONGO_URL not set. Check your .env file!\")\n",
    "\n",
    "# Connect to MongoDB\n",
    "client = pymongo.MongoClient(MONGO_URL)\n",
    "db = client.test\n",
    "\n",
    "# Test connection with a simple query:\n",
    "print(\"MongoDB version is\", client.server_info()[\"version\"])"
   ]
  }
 ],
 "metadata": {
  "kernelspec": {
   "display_name": "Python 3",
   "language": "python",
   "name": "python3"
  },
  "language_info": {
   "codemirror_mode": {
    "name": "ipython",
    "version": 2
   },
   "file_extension": ".py",
   "mimetype": "text/x-python",
   "name": "python",
   "nbconvert_exporter": "python",
   "pygments_lexer": "ipython2",
   "version": "2.7.6"
  }
 },
 "nbformat": 4,
 "nbformat_minor": 5
}

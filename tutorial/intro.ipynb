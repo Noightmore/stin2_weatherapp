{
 "cells": [
  {
   "cell_type": "markdown",
   "id": "0",
   "metadata": {},
   "source": [
    "## Cast s pripojenim k databzi a nactenim promennych z .env souboru"
   ]
  },
  {
   "cell_type": "code",
   "execution_count": null,
   "id": "1",
   "metadata": {},
   "outputs": [],
   "source": [
    "from dotenv import load_dotenv\n",
    "import os\n",
    "import psycopg2\n",
    "import pandas as pd\n",
    "from sqlalchemy import create_engine\n",
    "from urllib.parse import urlparse, urlunparse\n",
    "\n",
    "\n",
    "# connect to the PostgreSQL server | basic functionality\n",
    "\n",
    "# Load environment variables from .env file\n",
    "dotenv_path = os.path.join(os.getcwd(), '../.env.local')\n",
    "print(\"Loading environment variables from:\", dotenv_path)\n",
    "load_dotenv(dotenv_path)\n",
    "\n",
    "DATABASE_URL = os.getenv('POSTGRES_URL')\n",
    "\n",
    "if DATABASE_URL is None:\n",
    "    raise ValueError(\"DATABASE_URL not set. Check your .env file!\")\n",
    "\n",
    "# Fix for SQLAlchemy:\n",
    "if DATABASE_URL.startswith('postgres://'):\n",
    "    DATABASE_URL = DATABASE_URL.replace('postgres://', 'postgresql://', 1)\n",
    "    # Remove unsupported supabase query parameter\n",
    "    url_parts = urlparse(DATABASE_URL)\n",
    "    clean_query = \"&\".join(\n",
    "        param for param in url_parts.query.split('&')\n",
    "        if not param.startswith('supa=')\n",
    "    )\n",
    "    # Rebuild the URL without 'supa'\n",
    "    clean_url_parts = url_parts._replace(query=clean_query)\n",
    "    DATABASE_URL_CLEAN = urlunparse(clean_url_parts)\n",
    "\n",
    "# Check if loaded correctly\n",
    "print(\"Database URL:\", DATABASE_URL)\n",
    "print(\"Cleaned Database URL:\", DATABASE_URL_CLEAN)\n",
    "\n",
    "# Connect using SQLAlchemy (Recommended)\n",
    "engine = create_engine(DATABASE_URL_CLEAN) # pouzivany ve zbytku kodu\n",
    "\n",
    "# Test connection with a simple query:\n",
    "query = \"SELECT NOW();\"\n",
    "df = pd.read_sql(query, engine)\n",
    "\n",
    "print(df)\n"
   ]
  },
  {
   "cell_type": "code",
   "execution_count": null,
   "id": "2",
   "metadata": {},
   "outputs": [],
   "source": [
    "# connect to the MongoDB server | basic functionality\n",
    "\n",
    "import pymongo\n",
    "import sys\n",
    "\n",
    "# Load environment variables from .env file\n",
    "dotenv_path = os.path.join(os.getcwd(), '../.env.local')\n",
    "print(\"Loading environment variables from:\", dotenv_path)\n",
    "load_dotenv(dotenv_path)\n",
    "\n",
    "MONGO_URL = os.getenv('MONGO_URL')\n",
    "\n",
    "if MONGO_URL is None:\n",
    "    raise ValueError(\"MONGO_URL not set. Check your .env file!\")\n",
    "\n",
    "# Connect to MongoDB\n",
    "client = pymongo.MongoClient(MONGO_URL)\n",
    "mongo_db = client.test\n",
    "\n",
    "# Test connection with a simple query:\n",
    "print(\"MongoDB version is\", client.server_info()[\"version\"])\n"
   ]
  },
  {
   "cell_type": "markdown",
   "id": "3",
   "metadata": {},
   "source": [
    "## Cast se ziskavanim n dat pro m misto pro t cas do minulosti + ulozineni do mongodb"
   ]
  },
  {
   "cell_type": "code",
   "execution_count": null,
   "id": "4",
   "metadata": {},
   "outputs": [],
   "source": [
    "# aplikace samotna\n",
    "dotenv_path = os.path.join(os.getcwd(), '.env.public')\n",
    "print(\"Loading environment variables from:\", dotenv_path)\n",
    "\n",
    "load_dotenv(dotenv_path)\n",
    "\n",
    "# Load environment variables from .env file\n",
    "WEATHER_API = os.getenv('OPEN_WEATHER_API')\n",
    "DEFAULT_EXCLUDE = os.getenv('DEFAULT_EXCLUDE')\n",
    "\n",
    "dotenv_path = os.path.join(os.getcwd(), '../.env.local')\n",
    "print(\"Loading environment variables from:\", dotenv_path)\n",
    "load_dotenv(dotenv_path)\n",
    "\n",
    "WEATHER_API_KEY = os.getenv('OPEN_WEATHER_API_KEY')\n",
    "\n",
    "geocoding_API = os.getenv('GEOCODING_API')\n",
    "\n",
    "if geocoding_API is None:\n",
    "    raise ValueError(\"GEOCODING_API not set. Check your .env file!\")\n",
    "\n",
    "if WEATHER_API is None:\n",
    "    raise ValueError(\"WEATHER_API not set. Check your .env file!\")\n",
    "\n",
    "if DEFAULT_EXCLUDE is None:\n",
    "    raise ValueError(\"DEFAULT_EXCLUDE not set. Check your .env file!\")\n",
    "\n",
    "if WEATHER_API_KEY is None:\n",
    "    raise ValueError(\"WEATHER_API_KEY not set. Check your .env file!\")\n",
    "\n",
    "print(\"WEATHER_API:\", WEATHER_API)\n",
    "print(\"WEATHER_API_KEY:\", WEATHER_API_KEY)\n",
    "print(\"DEFAULT_EXCLUDE:\", DEFAULT_EXCLUDE)"
   ]
  },
  {
   "cell_type": "code",
   "execution_count": null,
   "id": "5",
   "metadata": {},
   "outputs": [],
   "source": [
    "import time\n",
    "### dummy open weather api test\n",
    "\n",
    "import requests\n",
    "\n",
    "# beijing\n",
    "# time stamp of 3 days ago\n",
    "latitude_dummy = 39.9057136\n",
    "longitude_dummy = 116.3912972\n",
    "\n",
    "# https://openweathermap.org/api/one-call-3\n",
    "# cast kde je 1000 callu free:\n",
    "\n",
    "# lat={lat}&lon={lon}&exclude={part}&appid={API key}&units=metric&lang=en&dt={to_be_set}\"\n",
    "#url = f\"{WEATHER_API}/data/3.0/onecall/timemachine?lat={latitude_dummy}&lon={longitude_dummy}&exclude={DEFAULT_EXCLUDE}&appid={WEATHER_API_KEY}&units=metric&lang=en&dt={timestamp}\"\n",
    "\n",
    "\n",
    "# tahle cast, co vraci spanek format nefuguje, je velmi hodne zpoplatnena\n",
    "# nutno zakoupit: https://openweathermap.org/price#current\n",
    "# https://openweathermap.org/history\n",
    "# nebo pouzit tu student verzi\n",
    "#\n",
    "# get current day timestamp\n",
    "start = int(time.time()) - 3 * 24 * 60 * 60\n",
    "count = 1\n",
    "\n",
    "#url = f\"{WEATHER_API}city?&lat={latitude_dummy}&lon={longitude_dummy}&start={start}&cnt={count}&appid={WEATHER_API_KEY}&type=daily\"\n",
    "url = f\"{WEATHER_API}city?q=London&start={start}&cnt={count}&appid={WEATHER_API_KEY}&type=daily\"\n",
    "\n",
    "\n",
    "print(url)\n",
    "\n",
    "# get response\n",
    "response = requests.get(url)\n",
    "print(response.status_code)"
   ]
  },
  {
   "cell_type": "code",
   "execution_count": null,
   "id": "6",
   "metadata": {},
   "outputs": [],
   "source": [
    "# display the json in more human-readable format\n",
    "import json\n",
    "data = response.json()\n",
    "print(json.dumps(data, indent=4, sort_keys=True))\n"
   ]
  },
  {
   "cell_type": "code",
   "execution_count": null,
   "id": "7",
   "metadata": {},
   "outputs": [],
   "source": [
    "# set \"city_id\": 4298960 to \"city_id\": \"London\" in the data json\n",
    "data['city_id'] = \"London\"\n",
    "print(json.dumps(data, indent=4, sort_keys=True))"
   ]
  },
  {
   "cell_type": "code",
   "execution_count": null,
   "id": "8",
   "metadata": {},
   "outputs": [],
   "source": [
    "# store the json into mongodb\n",
    "mongo_db.weather.insert_one(data)"
   ]
  },
  {
   "cell_type": "code",
   "execution_count": null,
   "id": "9",
   "metadata": {},
   "outputs": [],
   "source": [
    "# read the data from mongodb\n",
    "data = mongo_db.weather.find_one()\n",
    "# print the data\n",
    "print(data)"
   ]
  },
  {
   "cell_type": "code",
   "execution_count": null,
   "id": "10",
   "metadata": {},
   "outputs": [],
   "source": [
    "city_name = \"Munchen\"\n",
    "country_code= \"DE\"\n",
    "\n",
    "url = f\"{geocoding_API}/direct?q={city_name},{country_code}&limit=1&appid={WEATHER_API_KEY}\"\n",
    "# get response\n",
    "response = requests.get(geocoding_API)\n",
    "print(response.status_code)\n",
    "data = response.json()\n",
    "print(json.dumps(data, indent=4, sort_keys=True))"
   ]
  },
  {
   "cell_type": "markdown",
   "id": "11",
   "metadata": {},
   "source": [
    "## Cast initalizace postgresql database + ulozeni dat do tabulek z mongodb"
   ]
  },
  {
   "cell_type": "code",
   "execution_count": null,
   "id": "12",
   "metadata": {},
   "outputs": [],
   "source": [
    "from sqlalchemy import text\n",
    "\n",
    "# NEBEZPECNE ZPOUSTET POKUD UZ V DB MAME VYTVORENE TABULKY S MNOHA DATY -- DROP TABLES\n",
    "\n",
    "drop = dotenv_path = os.path.join(os.getcwd(), 'sql_scripts/db_hard_reset.sql')\n",
    "with engine.begin() as connection:\n",
    "    with open(drop, \"r\") as file:\n",
    "        sql_script = file.read()\n",
    "\n",
    "    # Split the script into individual statements\n",
    "    statements = sql_script.split(';')\n",
    "    for stmt in statements:\n",
    "        stmt = stmt.strip()\n",
    "        if stmt:  # skip empty statements\n",
    "            connection.execute(text(stmt))"
   ]
  },
  {
   "cell_type": "code",
   "execution_count": null,
   "id": "13",
   "metadata": {},
   "outputs": [],
   "source": [
    "# Read the SQL script from a file\n",
    "\n",
    "from sqlalchemy import text\n",
    "\n",
    "create_table_script = dotenv_path = os.path.join(os.getcwd(), 'sql_scripts/create_tables.sql')\n",
    "with engine.begin() as connection:\n",
    "    with open(create_table_script, \"r\") as file:\n",
    "        sql_script = file.read()\n",
    "\n",
    "    # Split the script into individual statements\n",
    "    statements = sql_script.split(';')\n",
    "    for stmt in statements:\n",
    "        stmt = stmt.strip()\n",
    "        if stmt:  # skip empty statements\n",
    "            connection.execute(text(stmt))\n"
   ]
  },
  {
   "cell_type": "code",
   "execution_count": null,
   "id": "14",
   "metadata": {},
   "outputs": [],
   "source": [
    "from sqlalchemy import create_engine, inspect\n",
    "\n",
    "# Create SQLAlchemy engine\n",
    "inspector = inspect(engine)\n",
    "\n",
    "# Get all table names\n",
    "table_names = inspector.get_table_names()\n",
    "\n",
    "print(\"Database schema:\")\n",
    "for table in table_names:\n",
    "    print(\"\\nTable:\", table)\n",
    "    columns = inspector.get_columns(table)\n",
    "    for col in columns:\n",
    "        print(\"  Column: {:20} Type: {}\".format(col['name'], col['type']))"
   ]
  },
  {
   "cell_type": "code",
   "execution_count": null,
   "id": "15",
   "metadata": {},
   "outputs": [],
   "source": [
    "# todo implement json to sql"
   ]
  }
 ],
 "metadata": {
  "kernelspec": {
   "display_name": "Python 3",
   "language": "python",
   "name": "python3"
  },
  "language_info": {
   "codemirror_mode": {
    "name": "ipython",
    "version": 2
   },
   "file_extension": ".py",
   "mimetype": "text/x-python",
   "name": "python",
   "nbconvert_exporter": "python",
   "pygments_lexer": "ipython2",
   "version": "2.7.6"
  }
 },
 "nbformat": 4,
 "nbformat_minor": 5
}

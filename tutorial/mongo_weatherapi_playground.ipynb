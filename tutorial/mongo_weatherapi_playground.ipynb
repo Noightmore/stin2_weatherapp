{
 "cells": [
  {
   "cell_type": "code",
   "execution_count": null,
   "id": "0",
   "metadata": {},
   "outputs": [],
   "source": [
    "from weather_app.helpers.HandlerFactory import HandlerFactory\n",
    "\n",
    "paths = [\"../.env.local\", \"../.env.public\"]\n",
    "\n",
    "handler_factory = HandlerFactory(paths)\n",
    "\n",
    "mongo_handler = handler_factory.get_mongo_handler()\n",
    "weather_handler = handler_factory.get_weather_handler()"
   ]
  },
  {
   "cell_type": "code",
   "execution_count": null,
   "id": "1",
   "metadata": {},
   "outputs": [],
   "source": [
    "mongo_handler.verify_connection()"
   ]
  },
  {
   "cell_type": "code",
   "execution_count": null,
   "id": "2",
   "metadata": {},
   "outputs": [],
   "source": [
    "import time\n",
    "\n",
    "## get a json for the last n days from london (spoiler it's been raining the whole time)\n",
    "n = 4\n",
    "start = \"03/30/2025\"\n",
    "print(start)\n",
    "weather_handler.get_weather_n_days_into_future_by_date('London', None, None, start, n)"
   ]
  },
  {
   "cell_type": "code",
   "execution_count": null,
   "id": "3",
   "metadata": {},
   "outputs": [],
   "source": [
    "## get a json for the last 2 days from london (spoiler: it's been raining the whole time)\n",
    "# working cities: London, Prague, New York, Berlin, Birmingham, Chicago, Paris\n",
    "start = \"04/03/2025\"\n",
    "place = 'Bronx'\n",
    "print(start)\n",
    "weather_handler.get_weather_n_days_into_past_by_date(place, None, None, start, 2)"
   ]
  },
  {
   "cell_type": "code",
   "execution_count": null,
   "id": "4",
   "metadata": {},
   "outputs": [],
   "source": [
    "start = \"04/03/2025\"\n",
    "place = None\n",
    "beijing_lat = 39.9042\n",
    "beijing_lon = 116.4074\n",
    "\n",
    "print(start)\n",
    "weather_handler.get_weather_n_days_into_past_by_date(None, beijing_lat, beijing_lon, start, 2)"
   ]
  },
  {
   "cell_type": "code",
   "execution_count": null,
   "id": "5",
   "metadata": {},
   "outputs": [],
   "source": [
    "weather_handler.get_weather_by_interval('London', None, None, '03/30/2025', '04/03/2025')"
   ]
  },
  {
   "cell_type": "code",
   "execution_count": null,
   "id": "6",
   "metadata": {},
   "outputs": [],
   "source": [
    "cities = [\n",
    "    {\"name\": \"Beijing\", \"lat\": 39.9042, \"lon\": 116.4074},\n",
    "    {\"name\": \"Tokyo\", \"lat\": 35.6895, \"lon\": 139.6917},\n",
    "    {\"name\": \"Paris\", \"lat\": 48.8566, \"lon\": 2.3522},\n",
    "    {\"name\": \"New York\", \"lat\": 40.7128, \"lon\": -74.0060},\n",
    "    {\"name\": \"London\", \"lat\": 51.5074, \"lon\": -0.1278},\n",
    "    {\"name\": \"Moscow\", \"lat\": 55.7558, \"lon\": 37.6173},\n",
    "    {\"name\": \"Sydney\", \"lat\": -33.8688, \"lon\": 151.2093},\n",
    "    {\"name\": \"Mumbai\", \"lat\": 19.0760, \"lon\": 72.8777},\n",
    "    {\"name\": \"Rio de Janeiro\", \"lat\": -22.9068, \"lon\": -43.1729},\n",
    "    {\"name\": \"Cairo\", \"lat\": 30.0444, \"lon\": 31.2357},\n",
    "    {\"name\": \"Los Angeles\", \"lat\": 34.0522, \"lon\": -118.2437},\n",
    "    {\"name\": \"Chicago\", \"lat\": 41.8781, \"lon\": -87.6298},\n",
    "    {\"name\": \"Toronto\", \"lat\": 43.6532, \"lon\": -79.3832},\n",
    "    {\"name\": \"Mexico City\", \"lat\": 19.4326, \"lon\": -99.1332},\n",
    "    {\"name\": \"Berlin\", \"lat\": 52.5200, \"lon\": 13.4050},\n",
    "    {\"name\": \"Madrid\", \"lat\": 40.4168, \"lon\": -3.7038},\n",
    "    {\"name\": \"Rome\", \"lat\": 41.9028, \"lon\": 12.4964},\n",
    "    {\"name\": \"Istanbul\", \"lat\": 41.0082, \"lon\": 28.9784},\n",
    "    {\"name\": \"Seoul\", \"lat\": 37.5665, \"lon\": 126.9780},\n",
    "    {\"name\": \"Singapore\", \"lat\": 1.3521, \"lon\": 103.8198},\n",
    "    {\"name\": \"Hong Kong\", \"lat\": 22.3193, \"lon\": 114.1694},\n",
    "    {\"name\": \"Dubai\", \"lat\": 25.2048, \"lon\": 55.2708},\n",
    "    {\"name\": \"Johannesburg\", \"lat\": -26.2041, \"lon\": 28.0473},\n",
    "    {\"name\": \"Buenos Aires\", \"lat\": -34.6037, \"lon\": -58.3816},\n",
    "    {\"name\": \"Lima\", \"lat\": -12.0464, \"lon\": -77.0428},\n",
    "    {\"name\": \"Santiago\", \"lat\": -33.4489, \"lon\": -70.6693},\n",
    "    {\"name\": \"Bangkok\", \"lat\": 13.7563, \"lon\": 100.5018},\n",
    "    {\"name\": \"Kuala Lumpur\", \"lat\": 3.1390, \"lon\": 101.6869},\n",
    "    {\"name\": \"Jakarta\", \"lat\": -6.2088, \"lon\": 106.8456},\n",
    "    {\"name\": \"Manila\", \"lat\": 14.5995, \"lon\": 120.9842},\n",
    "    {\"name\": \"Delhi\", \"lat\": 28.7041, \"lon\": 77.1025},\n",
    "    {\"name\": \"Bogota\", \"lat\": 4.7110, \"lon\": -74.0721},\n",
    "    {\"name\": \"Nairobi\", \"lat\": -1.2921, \"lon\": 36.8219},\n",
    "    {\"name\": \"Lagos\", \"lat\": 6.5244, \"lon\": 3.3792},\n",
    "    {\"name\": \"Athens\", \"lat\": 37.9838, \"lon\": 23.7275},\n",
    "    {\"name\": \"Vienna\", \"lat\": 48.2082, \"lon\": 16.3738},\n",
    "    {\"name\": \"Stockholm\", \"lat\": 59.3293, \"lon\": 18.0686},\n",
    "    {\"name\": \"Zurich\", \"lat\": 47.3769, \"lon\": 8.5417},\n",
    "    {\"name\": \"Amsterdam\", \"lat\": 52.3676, \"lon\": 4.9041},\n",
    "    {\"name\": \"Brussels\", \"lat\": 50.8503, \"lon\": 4.3517},\n",
    "    {\"name\": \"Lisbon\", \"lat\": 38.7223, \"lon\": -9.1393},\n",
    "    {\"name\": \"Prague\", \"lat\": 50.0755, \"lon\": 14.4378},\n",
    "    {\"name\": \"Budapest\", \"lat\": 47.4979, \"lon\": 19.0402},\n",
    "    {\"name\": \"Warsaw\", \"lat\": 52.2297, \"lon\": 21.0122},\n",
    "    {\"name\": \"Dublin\", \"lat\": 53.3498, \"lon\": -6.2603},\n",
    "    {\"name\": \"Edinburgh\", \"lat\": 55.9533, \"lon\": -3.1883},\n",
    "    {\"name\": \"Vancouver\", \"lat\": 49.2827, \"lon\": -123.1207},\n",
    "    {\"name\": \"Auckland\", \"lat\": -36.8485, \"lon\": 174.7633},\n",
    "    {\"name\": \"Montreal\", \"lat\": 45.5017, \"lon\": -73.5673},\n",
    "    {\"name\": \"Cape Town\", \"lat\": -33.9249, \"lon\": 18.4241}\n",
    "]"
   ]
  },
  {
   "cell_type": "code",
   "execution_count": null,
   "id": "7",
   "metadata": {},
   "outputs": [],
   "source": [
    "# open weather api scraper function\n",
    "def update_weather_data_for_cities(weather_handler, mongo_handler, cities, start_date, end_date):\n",
    "    \"\"\"\n",
    "    For each city in the list, retrieve weather data for the interval specified by start_date and end_date,\n",
    "    then insert the resulting JSON into the MongoDB 'weather_data' collection.\n",
    "\n",
    "    :param weather_handler: An instance of WeatherApiHandler.\n",
    "    :param mongo_handler: An instance of MongoHandler.\n",
    "    :param cities: List of dicts with keys \"name\", \"lat\", and \"lon\".\n",
    "    :param start_date: Start date as a string in \"mm/dd/yyyy\" format.\n",
    "    :param end_date: End date as a string in \"mm/dd/yyyy\" format.\n",
    "    \"\"\"\n",
    "    for city in cities:\n",
    "        lat = city[\"lat\"]\n",
    "        lon = city[\"lon\"]\n",
    "        try:\n",
    "            # Call the API using the interval method; city is not used (pass empty string)\n",
    "            weather_json = weather_handler.get_weather_by_interval(\"\", lat, lon, start_date, end_date)\n",
    "            # Optionally, you might want to add a field for the city name to the JSON:\n",
    "            weather_json[\"city_name\"] = city[\"name\"]\n",
    "            # Insert the JSON into the MongoDB collection \"weather_data\"\n",
    "            mongo_handler.insert_document(\"weather_data\", weather_json)\n",
    "            print(f\"Updated weather data for {city['name']}.\")\n",
    "        except Exception as e:\n",
    "            print(f\"Error updating data for {city['name']}: {e}\")"
   ]
  },
  {
   "cell_type": "code",
   "execution_count": null,
   "id": "8",
   "metadata": {},
   "outputs": [],
   "source": [
    "update_weather_data_for_cities(weather_handler, mongo_handler, cities, \"03/26/2025\", \"04/03/2025\") # pls dont run this again pls"
   ]
  },
  {
   "cell_type": "code",
   "execution_count": null,
   "id": "9",
   "metadata": {},
   "outputs": [],
   "source": [
    "# get the last 5 days of data for beijing\n",
    "beijing_lat = 39.9042\n",
    "beijing_lon = 116.4074\n",
    "start = \"04/03/2025\"\n",
    "\n",
    "# we are in db_xd in collection weather_data\n",
    "mongo_handler.get_document_count('weather_data')"
   ]
  }
 ],
 "metadata": {
  "kernelspec": {
   "display_name": "Python 3",
   "language": "python",
   "name": "python3"
  },
  "language_info": {
   "codemirror_mode": {
    "name": "ipython",
    "version": 2
   },
   "file_extension": ".py",
   "mimetype": "text/x-python",
   "name": "python",
   "nbconvert_exporter": "python",
   "pygments_lexer": "ipython2",
   "version": "2.7.6"
  }
 },
 "nbformat": 4,
 "nbformat_minor": 5
}

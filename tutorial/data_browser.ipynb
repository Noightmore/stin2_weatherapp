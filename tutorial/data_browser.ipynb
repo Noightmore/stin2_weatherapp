{
 "cells": [
  {
   "cell_type": "code",
   "execution_count": null,
   "id": "0",
   "metadata": {},
   "outputs": [],
   "source": [
    "from weather_app.helpers.HandlerFactory import HandlerFactory\n",
    "\n",
    "paths = [\"../.env.local\", \"../.env.public\"]\n",
    "\n",
    "handler_factory = HandlerFactory(paths)\n",
    "\n",
    "mongo_handler = handler_factory.get_mongo_handler()\n",
    "weather_handler = handler_factory.get_weather_handler()"
   ]
  },
  {
   "cell_type": "code",
   "execution_count": null,
   "id": "1",
   "metadata": {},
   "outputs": [],
   "source": [
    "mongo_handler.verify_connection()"
   ]
  },
  {
   "cell_type": "code",
   "execution_count": null,
   "id": "2",
   "metadata": {},
   "outputs": [],
   "source": [
    "import time\n",
    "\n",
    "## get a json for the last 2 days from london (spoiler it's been raining the whole time)\n",
    "start = int(time.time()) - 2 * 86400 # timestamp for 2 days ago\n",
    "print(start)\n",
    "weather_handler.get_weather_n_days_into_future_by_date('London', start, 2)"
   ]
  },
  {
   "cell_type": "code",
   "execution_count": null,
   "id": "3",
   "metadata": {},
   "outputs": [],
   "source": [
    "## get a json for the last 2 days from london (spoiler: it's been raining the whole time)\n",
    "start = int(time.time()) - 2 * 86400 # timestamp for 2 days ago\n",
    "print(start)\n",
    "weather_handler.get_weather_n_day_into_past_by_date('London', start, 2)"
   ]
  }
 ],
 "metadata": {
  "kernelspec": {
   "display_name": "Python 3",
   "language": "python",
   "name": "python3"
  },
  "language_info": {
   "codemirror_mode": {
    "name": "ipython",
    "version": 2
   },
   "file_extension": ".py",
   "mimetype": "text/x-python",
   "name": "python",
   "nbconvert_exporter": "python",
   "pygments_lexer": "ipython2",
   "version": "2.7.6"
  }
 },
 "nbformat": 4,
 "nbformat_minor": 5
}

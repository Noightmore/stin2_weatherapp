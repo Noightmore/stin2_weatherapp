{
 "cells": [
  {
   "cell_type": "code",
   "execution_count": null,
   "id": "0",
   "metadata": {},
   "outputs": [],
   "source": [
    "from weather_app.helpers.HandlerFactory import HandlerFactory\n",
    "\n",
    "paths = [\"../.env.local\", \"../.env.public\"]\n",
    "\n",
    "handler_factory = HandlerFactory(paths)\n",
    "\n",
    "mongo_handler = handler_factory.get_mongo_handler()\n",
    "weather_handler = handler_factory.get_weather_handler()"
   ]
  },
  {
   "cell_type": "code",
   "execution_count": null,
   "id": "1",
   "metadata": {},
   "outputs": [],
   "source": [
    "mongo_handler.verify_connection()"
   ]
  },
  {
   "cell_type": "code",
   "execution_count": null,
   "id": "2",
   "metadata": {},
   "outputs": [],
   "source": [
    "import time\n",
    "\n",
    "## get a json for the last n days from london (spoiler it's been raining the whole time)\n",
    "n = 4\n",
    "start = \"03/30/2025\"\n",
    "print(start)\n",
    "weather_handler.get_weather_n_days_into_future_by_date('London', None, None, start, n)"
   ]
  },
  {
   "cell_type": "code",
   "execution_count": null,
   "id": "3",
   "metadata": {},
   "outputs": [],
   "source": [
    "## get a json for the last 2 days from london (spoiler: it's been raining the whole time)\n",
    "# working cities: London, Prague, New York, Berlin, Birmingham, Chicago, Paris\n",
    "start = \"04/03/2025\"\n",
    "place = 'Bronx'\n",
    "print(start)\n",
    "weather_handler.get_weather_n_days_into_past_by_date(place, None, None, start, 2)"
   ]
  },
  {
   "cell_type": "code",
   "execution_count": null,
   "id": "4",
   "metadata": {},
   "outputs": [],
   "source": [
    "start = \"04/03/2025\"\n",
    "place = None\n",
    "beijing_lat = 39.9042\n",
    "beijing_lon = 116.4074\n",
    "\n",
    "print(start)\n",
    "weather_handler.get_weather_n_days_into_past_by_date(None, beijing_lat, beijing_lon, start, 2)"
   ]
  }
 ],
 "metadata": {
  "kernelspec": {
   "display_name": "Python 3",
   "language": "python",
   "name": "python3"
  },
  "language_info": {
   "codemirror_mode": {
    "name": "ipython",
    "version": 2
   },
   "file_extension": ".py",
   "mimetype": "text/x-python",
   "name": "python",
   "nbconvert_exporter": "python",
   "pygments_lexer": "ipython2",
   "version": "2.7.6"
  }
 },
 "nbformat": 4,
 "nbformat_minor": 5
}
